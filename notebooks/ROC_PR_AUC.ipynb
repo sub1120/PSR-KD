{
  "nbformat": 4,
  "nbformat_minor": 0,
  "metadata": {
    "colab": {
      "name": "ROC-PR-AUC.ipynb",
      "private_outputs": true,
      "provenance": [],
      "collapsed_sections": []
    },
    "kernelspec": {
      "name": "python3",
      "display_name": "Python 3"
    },
    "language_info": {
      "name": "python"
    }
  },
  "cells": [
    {
      "cell_type": "code",
      "execution_count": null,
      "metadata": {
        "id": "MqLTCD5uabw6"
      },
      "outputs": [],
      "source": [
        "from google.colab import drive\n",
        "drive.mount('/content/drive')"
      ]
    },
    {
      "cell_type": "code",
      "source": [
        "cd /content/drive/MyDrive/PSR"
      ],
      "metadata": {
        "id": "dLFEV3SuhvaB"
      },
      "execution_count": null,
      "outputs": []
    },
    {
      "cell_type": "code",
      "source": [
        "!pip install scikit-plot"
      ],
      "metadata": {
        "id": "gSnokuVdseHD"
      },
      "execution_count": null,
      "outputs": []
    },
    {
      "cell_type": "code",
      "source": [
        "#LOAD DEPENDENCIES\n",
        "import os\n",
        "import time\n",
        "import pickle\n",
        "import logging\n",
        "import scikitplot \n",
        "import numpy as np\n",
        "import tensorflow as tf\n",
        "import matplotlib.pyplot as plt\n",
        "\n",
        "#IMPORT LOSS, OPTIMIZER, CALLBACK AND LAYERS\n",
        "from tensorflow.keras.optimizers import Adam\n",
        "from tensorflow.keras.losses import CategoricalCrossentropy, KLDivergence\n",
        "from tensorflow.keras.callbacks import ModelCheckpoint, ReduceLROnPlateau\n",
        "from tensorflow.keras.layers import Input, Dense, Dropout, GlobalAveragePooling2D\n",
        "\n",
        "#IMPORT MODEL APIs\n",
        "from tensorflow.keras.models import Model, load_model, save_model\n",
        "from tensorflow.keras.preprocessing.image import ImageDataGenerator\n",
        "from tensorflow.keras.applications.mobilenet_v2 import MobileNetV2 as selected_model\n",
        "from tensorflow.keras.applications.mobilenet_v2 import preprocess_input as student_preprocess\n",
        "\n",
        "import itertools\n",
        "import matplotlib.pyplot as plt\n",
        "import matplotlib.patheffects as path_effects\n",
        "from sklearn.metrics import accuracy_score, mean_squared_error, mean_squared_log_error, classification_report, confusion_matrix, roc_curve, auc\n",
        "\n",
        "#PREVENT ERROR UNCESSARY MESSAGES\n",
        "tf.get_logger().setLevel(logging.ERROR)\n",
        "os.environ['TF_CPP_MIN_LOG_LEVEL'] = '3'\n",
        "\n",
        "print(\"LIBRARIES LOADED\")"
      ],
      "metadata": {
        "id": "4fJBR7Qph2cw"
      },
      "execution_count": null,
      "outputs": []
    },
    {
      "cell_type": "code",
      "source": [
        "#Tweakable parameters\n",
        "MODEL_KIND = \"proposed_model\"\n",
        "MODEL_NAME = \"CommonBase\"\n",
        "\n",
        "#Models paths\n",
        "MODEL_PATH = \"models/\" + MODEL_KIND  + '/' + MODEL_NAME\n",
        "\n",
        "#Figures paths\n",
        "FIG_PATH = 'figures/' + MODEL_KIND + \"/\" + MODEL_NAME\n",
        "\n",
        "#Data paths\n",
        "MAIN_DATA_DIR = \"ds/\"\n",
        "TRAIN_DATA_DIR = MAIN_DATA_DIR + \"train/\"\n",
        "TEST_DATA_DIR = MAIN_DATA_DIR + \"test/\"\n",
        "VALIDATION_DATA_DIR = MAIN_DATA_DIR + \"val/\"\n",
        "\n",
        "print(\"ALL REQUERED PATHS SET\")"
      ],
      "metadata": {
        "id": "bWEzhYA6iBDJ"
      },
      "execution_count": null,
      "outputs": []
    },
    {
      "cell_type": "code",
      "source": [
        "#Load model Function\n",
        "def load_m(directory, model_name, custom_objects=None):\n",
        "    if not os.path.exists(directory):\n",
        "        print(\"Model File Does Not Exist!!\")\n",
        "        return \n",
        "    model = load_model(directory + \"/\" + model_name + \".h5\", custom_objects=custom_objects)\n",
        "    model.summary()\n",
        "    return model\n",
        "\n",
        "#Load History Function\n",
        "def load_h(directory, history_name):\n",
        "    if not os.path.exists(directory):\n",
        "        print(\"History File Does Not Exist!!\")\n",
        "        return \n",
        "    with open(directory + '/' + history_name + '.history', 'rb') as file:\n",
        "        his = pickle.load(file)\n",
        "    return his\n",
        "\n",
        "def save_fig(directory, fig_name):\n",
        "    if not os.path.exists(directory):\n",
        "        os.makedirs(directory)\n",
        "    plt.savefig(directory + '/' + fig_name + '.tiff', bbox_inches='tight', dpi=600, format='tiff')"
      ],
      "metadata": {
        "id": "b48qGSw5iD2M"
      },
      "execution_count": null,
      "outputs": []
    },
    {
      "cell_type": "code",
      "source": [
        "BATCH_SIZE = 4\n",
        "img_rows, img_cols = (224, 224)\n",
        "\n",
        "#LOAD VAL DATA\n",
        "val_datagen = ImageDataGenerator(preprocessing_function=student_preprocess)\n",
        "\n",
        "if not os.path.exists(TRAIN_DATA_DIR):\n",
        "    print(\"VALIDATION DATA DOES NOT EXITS!\")\n",
        "else:\n",
        "    print(\"LOAD VALIDATION SAMPLES...\")\n",
        "    validation_generator = val_datagen.flow_from_directory(\n",
        "                VALIDATION_DATA_DIR,\n",
        "                target_size=(img_rows,img_cols),\n",
        "                batch_size=BATCH_SIZE,\n",
        "                class_mode='categorical',\n",
        "                seed=42,\n",
        "                shuffle=False)\n",
        "\n",
        "    #CHECK  THE NUMBER OF SAMPLES\n",
        "    nb_validation_samples = len(validation_generator.filenames)\n",
        "    if nb_validation_samples == 0:\n",
        "        print(\"NO DATA VALIDATION FOUND IN VALIDATION FOLDER!\")\n",
        "\n",
        "#LOAD TEST DATA\n",
        "test_datagen = ImageDataGenerator(preprocessing_function=student_preprocess)\n",
        "\n",
        "if not os.path.exists(TEST_DATA_DIR):\n",
        "    print(\"TEST DATA DOES NOT EXITS!\")\n",
        "else:\n",
        "    print(\"LOAD TEST SAMPLES...\")\n",
        "    test_generator = test_datagen.flow_from_directory(\n",
        "                TEST_DATA_DIR,\n",
        "                target_size=(img_rows,img_cols),\n",
        "                batch_size=BATCH_SIZE,\n",
        "                class_mode='categorical',\n",
        "                seed=42,\n",
        "                shuffle=False)\n",
        "\n",
        "#CHECK  THE NUMBER OF SAMPLES\n",
        "nb_test_samples = len(test_generator.filenames)\n",
        "if nb_test_samples == 0:\n",
        "    print(\"NO DATA TEST FOUND IN TEST FOLDER!\")"
      ],
      "metadata": {
        "id": "ANFvlfAciFEH"
      },
      "execution_count": null,
      "outputs": []
    },
    {
      "cell_type": "code",
      "source": [
        "#Load the trained model into model variable for consitency.\n",
        "model = load_m(MODEL_PATH, MODEL_NAME)"
      ],
      "metadata": {
        "id": "rdHsam65iHwQ"
      },
      "execution_count": null,
      "outputs": []
    },
    {
      "cell_type": "code",
      "source": [
        "#Sanity check\n",
        "model.evaluate(validation_generator, return_dict=True)\n",
        "\n",
        "#Test the model\n",
        "model.evaluate(test_generator, return_dict=True)"
      ],
      "metadata": {
        "id": "4vif5T7PiNeb"
      },
      "execution_count": null,
      "outputs": []
    },
    {
      "cell_type": "code",
      "source": [
        "# get predictions\n",
        "y_pred = model.predict(validation_generator, \n",
        "                                 nb_validation_samples/BATCH_SIZE, workers=1, verbose=1)\n",
        "\n",
        "y_pred_2 = model.predict(test_generator, \n",
        "                                 nb_test_samples/BATCH_SIZE, workers=1, verbose=1)\n",
        "\n",
        "#actual targets\n",
        "Y_test=validation_generator.classes\n",
        "Y_test_2=test_generator.classes"
      ],
      "metadata": {
        "id": "IUUUCP2AiTiZ"
      },
      "execution_count": null,
      "outputs": []
    },
    {
      "cell_type": "code",
      "source": [
        "axisplot1 = scikitplot.metrics.plot_roc(Y_test, y_pred, cmap='tab10',classes_to_plot=[])\n",
        "plt.title('BaseComMon_ROC_curve-VAL', fontsize=18, fontfamily='Tahoma')\n",
        "\n",
        "plt.xlabel('Specificity', fontsize=18, fontfamily='Tahoma')\n",
        "plt.ylabel('Sensitivity', fontsize=18, fontfamily='Tahoma')\n",
        "\n",
        "plt.tick_params(length = 5, \n",
        "                width = 2, \n",
        "                right = True, \n",
        "                top = True, \n",
        "                labelsize = 12)\n",
        "\n",
        "plt.rc('xtick', direction=\"in\") \n",
        "plt.rc('ytick', direction=\"in\") \n",
        "legend = plt.legend(loc=\"lower right\", fontsize=11.5, labelspacing=0.5)\n",
        "plt.setp(legend.texts, family = 'Tahoma')\n",
        "\n",
        "plt.tight_layout()\n",
        "save_fig(FIG_PATH, 'ROC_curve-VAL')\n",
        "plt.show()"
      ],
      "metadata": {
        "id": "yKVttWMMittl"
      },
      "execution_count": null,
      "outputs": []
    },
    {
      "cell_type": "code",
      "source": [
        "axisplot2 = scikitplot.metrics.plot_roc(Y_test_2, y_pred_2, cmap='tab10',classes_to_plot=[])\n",
        "plt.title('BaseComMon_ROC_curve-Test', fontsize=18, fontfamily='Tahoma')\n",
        "\n",
        "plt.xlabel('Specificity', fontsize=18, fontfamily='Tahoma')\n",
        "plt.ylabel('Sensitivity', fontsize=18, fontfamily='Tahoma')\n",
        "\n",
        "plt.tick_params(length = 5, \n",
        "                width = 2, \n",
        "                right = True, \n",
        "                top = True, \n",
        "                labelsize = 12)\n",
        "   \n",
        "plt.rc('xtick', direction=\"in\") \n",
        "plt.rc('ytick', direction=\"in\") \n",
        "legend = plt.legend(loc=\"lower right\", fontsize=11.5, labelspacing=0.5)\n",
        "plt.setp(legend.texts, family = 'Tahoma')\n",
        "\n",
        "plt.tight_layout()\n",
        "save_fig(FIG_PATH, 'ROC_curve-TEST')\n",
        "plt.show()"
      ],
      "metadata": {
        "id": "fnW4JL8Ttmg7"
      },
      "execution_count": null,
      "outputs": []
    },
    {
      "cell_type": "code",
      "source": [
        "axisplot3 = scikitplot.metrics.plot_precision_recall(Y_test, y_pred, cmap='tab10',classes_to_plot=[])\n",
        "plt.title('BaseComMon_PR_curve-VAL', fontsize=18, fontfamily='Tahoma')\n",
        "\n",
        "plt.xlabel('Recall', fontsize=18, fontfamily='Tahoma')\n",
        "plt.ylabel('Precision', fontsize=18, fontfamily='Tahoma')\n",
        "\n",
        "plt.tick_params(length = 5, \n",
        "                width = 2, \n",
        "                right = True, \n",
        "                top = True, \n",
        "                labelsize = 12)\n",
        "   \n",
        "plt.rc('xtick', direction=\"in\") \n",
        "plt.rc('ytick', direction=\"in\") \n",
        "legend = plt.legend(loc=\"lower right\", fontsize=11.5, labelspacing=0.5)\n",
        "plt.setp(legend.texts, family = 'Tahoma')\n",
        "\n",
        "plt.tight_layout()\n",
        "save_fig(FIG_PATH, 'PR_curve-VAL')\n",
        "plt.show()"
      ],
      "metadata": {
        "id": "w6yH0jB2uaxL"
      },
      "execution_count": null,
      "outputs": []
    },
    {
      "cell_type": "code",
      "source": [
        "axisplot4 = scikitplot.metrics.plot_precision_recall(Y_test_2, y_pred_2, cmap='tab10',classes_to_plot=[])\n",
        "plt.title('BaseComMon_PR_curve-Test', fontsize=18, fontfamily='Tahoma')\n",
        "\n",
        "plt.xlabel('Recall', fontsize=18, fontfamily='Tahoma')\n",
        "plt.ylabel('Precision', fontsize=18, fontfamily='Tahoma')\n",
        "\n",
        "plt.tick_params(length = 5, \n",
        "                width = 2, \n",
        "                right = True, \n",
        "                top = True, \n",
        "                labelsize = 12)\n",
        "   \n",
        "plt.rc('xtick', direction=\"in\") \n",
        "plt.rc('ytick', direction=\"in\") \n",
        "legend = plt.legend(loc=\"lower right\", fontsize=11.5, labelspacing=0.5)\n",
        "plt.setp(legend.texts, family = 'Tahoma')\n",
        "\n",
        "plt.tight_layout()\n",
        "save_fig(FIG_PATH, 'PR_curve-TEST')\n",
        "plt.show()"
      ],
      "metadata": {
        "id": "ztrmKnH9uhk7"
      },
      "execution_count": null,
      "outputs": []
    },
    {
      "cell_type": "code",
      "source": [
        "#Convert to excel data\n",
        "import pandas as pd\n",
        "\n",
        "def export_excel(plot, path, name):\n",
        "    if not os.path.exists(path):\n",
        "        os.makedirs(path)\n",
        "\n",
        "    path = path + '/' + name\n",
        "    lines = plot.axes.get_lines()\n",
        "    lines = list(lines)\n",
        "    all_data = []\n",
        "\n",
        "    for line in lines:\n",
        "        label = line.get_label()\n",
        "        excel_data = {}\n",
        "        excel_data[label + '-x'] = {}\n",
        "        excel_data[label + '-y'] = {}\n",
        "\n",
        "        x = line.get_xdata()\n",
        "        y = line.get_ydata()\n",
        "\n",
        "        for i in range(len(x)):\n",
        "            excel_data[label + '-x'][i] = x[i]\n",
        "\n",
        "        for i in range(len(y)):\n",
        "            excel_data[label + '-y'][i] = y[i]\n",
        "\n",
        "        df = pd.DataFrame(excel_data)  \n",
        "        all_data.append(df)\n",
        "\n",
        "    all_df = pd.concat(all_data, axis=1)\n",
        "    all_df.to_excel(path)\n",
        "    print(\"Plot Exported to \", path)"
      ],
      "metadata": {
        "id": "yCmRb0yb4CP0"
      },
      "execution_count": null,
      "outputs": []
    },
    {
      "cell_type": "code",
      "source": [
        "export_excel(axisplot1, 'raw_excel_data/ComMonBase','ROC_curve-VAL.xlsx')\n",
        "export_excel(axisplot2, 'raw_excel_data/ComMonBase','ROC_curve-TEST.xlsx')\n",
        "export_excel(axisplot3, 'raw_excel_data/ComMonBase','PR_curve-VAL.xlsx')\n",
        "export_excel(axisplot4, 'raw_excel_data/ComMonBase','PR_curve-TEST.xlsx')"
      ],
      "metadata": {
        "id": "IuOVaTAYvffZ"
      },
      "execution_count": null,
      "outputs": []
    },
    {
      "cell_type": "code",
      "source": [
        "#Tweakable parameters\n",
        "MODEL_KIND = \"proposed_model\"\n",
        "MODEL_NAME = \"MiniMobileNetV2\"\n",
        "\n",
        "#Models paths\n",
        "MODEL_PATH = \"models/\" + MODEL_KIND  + '/' + MODEL_NAME\n",
        "\n",
        "#Figures paths\n",
        "FIG_PATH = 'figures/' + MODEL_KIND + \"/\" + MODEL_NAME"
      ],
      "metadata": {
        "id": "vMqA4Ddv8vyL"
      },
      "execution_count": null,
      "outputs": []
    },
    {
      "cell_type": "code",
      "source": [
        "#Load the trained model into model variable for consitency.\n",
        "model = load_m(MODEL_PATH, MODEL_NAME)"
      ],
      "metadata": {
        "id": "Cj9kZ4hy8XWA"
      },
      "execution_count": null,
      "outputs": []
    },
    {
      "cell_type": "code",
      "source": [
        "#Sanity check\n",
        "model.compile(loss=CategoricalCrossentropy(), optimizer='adam', metrics=['accuracy'])\n",
        "model.evaluate(validation_generator, return_dict=True)\n",
        "\n",
        "#Test the model\n",
        "model.evaluate(test_generator, return_dict=True)"
      ],
      "metadata": {
        "id": "O8UHbts86KhU"
      },
      "execution_count": null,
      "outputs": []
    },
    {
      "cell_type": "code",
      "source": [
        "# get predictions\n",
        "y_pred = model.predict(validation_generator, \n",
        "                                 nb_validation_samples/BATCH_SIZE, workers=1, verbose=1)\n",
        "\n",
        "y_pred_2 = model.predict(test_generator, \n",
        "                                 nb_test_samples/BATCH_SIZE, workers=1, verbose=1)\n",
        "\n",
        "#actual targets\n",
        "Y_test=validation_generator.classes\n",
        "Y_test_2=test_generator.classes"
      ],
      "metadata": {
        "id": "06zm-9MC6KhW"
      },
      "execution_count": null,
      "outputs": []
    },
    {
      "cell_type": "code",
      "source": [
        "axisplot1 = scikitplot.metrics.plot_roc(Y_test, y_pred, cmap='tab10',classes_to_plot=[])\n",
        "plt.title('KDComMon_ROC_curve-VAL', fontsize=18, fontfamily='Tahoma')\n",
        "\n",
        "plt.xlabel('Specificity', fontsize=18, fontfamily='Tahoma')\n",
        "plt.ylabel('Sensitivity', fontsize=18, fontfamily='Tahoma')\n",
        "\n",
        "plt.tick_params(length = 5, \n",
        "                width = 2, \n",
        "                right = True, \n",
        "                top = True, \n",
        "                labelsize = 12)\n",
        "\n",
        "plt.rc('xtick', direction=\"in\") \n",
        "plt.rc('ytick', direction=\"in\") \n",
        "legend = plt.legend(loc=\"lower right\", fontsize=11.5, labelspacing=0.5)\n",
        "plt.setp(legend.texts, family = 'Tahoma')\n",
        "\n",
        "plt.tight_layout()\n",
        "save_fig(FIG_PATH, 'ROC_curve-VAL')\n",
        "plt.show()"
      ],
      "metadata": {
        "id": "-6ky8fg86Aoh"
      },
      "execution_count": null,
      "outputs": []
    },
    {
      "cell_type": "code",
      "source": [
        "axisplot2 = scikitplot.metrics.plot_roc(Y_test_2, y_pred_2, cmap='tab10',classes_to_plot=[])\n",
        "plt.title('KDComMon_ROC_curve-Test', fontsize=18, fontfamily='Tahoma')\n",
        "\n",
        "plt.xlabel('Specificity', fontsize=18, fontfamily='Tahoma')\n",
        "plt.ylabel('Sensitivity', fontsize=18, fontfamily='Tahoma')\n",
        "\n",
        "plt.tick_params(length = 5, \n",
        "                width = 2, \n",
        "                right = True, \n",
        "                top = True, \n",
        "                labelsize = 12)\n",
        "   \n",
        "plt.rc('xtick', direction=\"in\") \n",
        "plt.rc('ytick', direction=\"in\") \n",
        "legend = plt.legend(loc=\"lower right\", fontsize=11.5, labelspacing=0.5)\n",
        "plt.setp(legend.texts, family = 'Tahoma')\n",
        "\n",
        "plt.tight_layout()\n",
        "save_fig(FIG_PATH, 'ROC_curve-TEST')\n",
        "plt.show()"
      ],
      "metadata": {
        "id": "LgKax4-56ApG"
      },
      "execution_count": null,
      "outputs": []
    },
    {
      "cell_type": "code",
      "source": [
        "axisplot3 = scikitplot.metrics.plot_precision_recall(Y_test, y_pred, cmap='tab10',classes_to_plot=[])\n",
        "plt.title('KDComMon_PR_curve-VAL', fontsize=18, fontfamily='Tahoma')\n",
        "\n",
        "plt.xlabel('Recall', fontsize=18, fontfamily='Tahoma')\n",
        "plt.ylabel('Precision', fontsize=18, fontfamily='Tahoma')\n",
        "\n",
        "plt.tick_params(length = 5, \n",
        "                width = 2, \n",
        "                right = True, \n",
        "                top = True, \n",
        "                labelsize = 12)\n",
        "   \n",
        "plt.rc('xtick', direction=\"in\") \n",
        "plt.rc('ytick', direction=\"in\") \n",
        "legend = plt.legend(loc=\"lower right\", fontsize=11.5, labelspacing=0.5)\n",
        "plt.setp(legend.texts, family = 'Tahoma')\n",
        "\n",
        "plt.tight_layout()\n",
        "save_fig(FIG_PATH, 'PR_curve-VAL')\n",
        "plt.show()"
      ],
      "metadata": {
        "id": "cCZ-_Db36ApI"
      },
      "execution_count": null,
      "outputs": []
    },
    {
      "cell_type": "code",
      "source": [
        "axisplot4 = scikitplot.metrics.plot_precision_recall(Y_test_2, y_pred_2, cmap='tab10',classes_to_plot=[])\n",
        "plt.title('KDComMon_PR_curve-Test', fontsize=18, fontfamily='Tahoma')\n",
        "\n",
        "plt.xlabel('Recall', fontsize=18, fontfamily='Tahoma')\n",
        "plt.ylabel('Precision', fontsize=18, fontfamily='Tahoma')\n",
        "\n",
        "plt.tick_params(length = 5, \n",
        "                width = 2, \n",
        "                right = True, \n",
        "                top = True, \n",
        "                labelsize = 12)\n",
        "   \n",
        "plt.rc('xtick', direction=\"in\") \n",
        "plt.rc('ytick', direction=\"in\") \n",
        "legend = plt.legend(loc=\"lower right\", fontsize=11.5, labelspacing=0.5)\n",
        "plt.setp(legend.texts, family = 'Tahoma')\n",
        "\n",
        "plt.tight_layout()\n",
        "save_fig(FIG_PATH, 'PR_curve-TEST')\n",
        "plt.show()"
      ],
      "metadata": {
        "id": "H3fgAtNq6ApJ"
      },
      "execution_count": null,
      "outputs": []
    },
    {
      "cell_type": "code",
      "source": [
        "export_excel(axisplot1, 'raw_excel_data/KDComMon','ROC_curve-VAL.xlsx')\n",
        "export_excel(axisplot2, 'raw_excel_data/KDComMon','ROC_curve-TEST.xlsx')\n",
        "export_excel(axisplot3, 'raw_excel_data/KDComMon','PR_curve-VAL.xlsx')\n",
        "export_excel(axisplot4, 'raw_excel_data/KDComMon','PR_curve-TEST.xlsx')"
      ],
      "metadata": {
        "id": "TADhDdGg7jK_"
      },
      "execution_count": null,
      "outputs": []
    }
  ]
}